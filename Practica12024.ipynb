{
  "cells": [
    {
      "cell_type": "markdown",
      "id": "8ef30a1a",
      "metadata": {
        "id": "8ef30a1a"
      },
      "source": [
        "# Pràctica 1:\n",
        "\n",
        "Nom dels alumnes del grup:\n",
        "\n",
        "# Anàlisi exploratòria de dades (EDA) & ús d'eines avançades de Python\n",
        "\n",
        "L'**anàlisi exploratòria de dades** (EDA, per les seves sigles en anglès, *Exploratory Data Analysis*) és un procés crític en la ciència de les dades que implica **explorar, resumir i visualitzar** les dades per a entendre les seves característiques principals. L'objectiu principal de l'EDA és revelar patrons, tendències i anomalies a partir de les dades, sense fer suposicions massa específiques o construir models massa complexes.\n",
        "\n",
        "Aquí teniu alguns dels elements més importants de l'anàlisi exploratòria de dades:\n",
        "\n",
        "+ **Visualització de dades**: A través de gràfics i gràfiques, es representen les dades per a veure distribucions, tendències i relacions. Això pot incloure histogrames, gràfics de barres, diagrames de dispersió, gràfics de caixa, etc.\n",
        "\n",
        "+ **Estadístiques descriptives**: Es calculen estadístiques com la mitjana, la mediana, la desviació estàndard i altres mesures resum per a descriure les característiques bàsiques de les variables.\n",
        "\n",
        "+ **Detecció d'anomalies**: Es busca identificar valors atípics o anòmals que puguin indicar errors o situacions especials en les dades.\n",
        "\n",
        "+ **Imputació de dades faltants**: Si les dades tenen buits o valors faltants, es pot decidir com omplir aquests buits de manera adequada.\n",
        "\n",
        "+ **Exploració de relacions**: Es busquen correlacions i relacions entre les diferents variables de les dades per a identificar connexions i dependencies.\n",
        "\n",
        "+ **Agrupació de dades**: Es divideixen les dades en subconjunts basats en certes característiques per a analitzar-les més detingudament.\n",
        "\n",
        "+ **Transformació de dades**: Es poden aplicar transformacions a les dades per a fer-les més adequades per a anàlisi posterior, com l'estandardització o la normalització.\n",
        "\n",
        "* **Selecció de característiques**: Si es treballa amb un conjunt de dades amb moltes variables, es pot realitzar una selecció de característiques per a reduir la complexitat i millorar l'eficiència de l'anàlisi.\n",
        "\n",
        "Python ofereix una àmplia gamma d'eines i biblioteques per a realitzar l'anàlisi exploratòria de dades (EDA). Algunes de les biblioteques més populars i útils són les següents:\n",
        "\n",
        "+ **NumPy**: NumPy és una biblioteca fonamental per a la computació científica en Python. Proporciona funcionalitats per a treballar amb matrius i vectors, la qual cosa és essencial per a l'anàlisi de dades.\n",
        "\n",
        "+ **Pandas**: Pandas és una biblioteca molt popular per a l'anàlisi de dades que ofereix estructures de dades com DataFrame i Series, que faciliten la manipulació i anàlisi de dades tabulars. Podeu utilitzar Pandas per a carregar, netejar i explorar les dades.\n",
        "\n",
        "+ **Matplotlib**: Matplotlib és una biblioteca per a la visualització de dades que us permet crear una àmplia gamma de gràfics i gràfiques personalitzades. És ideal per a crear histogrames, diagrames de dispersió, gràfics de barres i moltes altres representacions gràfiques.\n",
        "\n",
        "+ **Scipy**: SciPy és una biblioteca que amplia les funcionalitats de NumPy i proporciona eines addicionals per a l'anàlisi científic, inclosos estadístics i mètodes d'optimització.\n",
        "\n",
        "+ **Scikit-learn**: Si esteu interessats en l'aprenentatge automàtic, Scikit-learn és una biblioteca essencial que ofereix eines per a la classificació, regressió, agrupació i altres tasques d'aprenentatge automàtic. També conté eines per a la selecció de característiques.\n",
        "\n",
        "+ **Seaborn**: Seaborn és una biblioteca de visualització de dades basada en Matplotlib que simplifica la creació de gràfics estadístics atractius i informatius. És especialment útil per a la visualització de relacions i tendències en les dades."
      ]
    },
    {
      "cell_type": "markdown",
      "id": "9a858270",
      "metadata": {
        "id": "9a858270"
      },
      "source": [
        "## 0. Objectiu de la pràctica\n",
        "\n",
        "L'**objectiu d'aquesta pràctica** és aprendre com fer una exploració sobre un conjunt de dades real, que al final ens permeti obtenir la resposta a diverses preguntes.\n",
        "\n",
        "En aquesta pràctica explorarem les dades dels trajectes dels **taxis grocs de la ciutat de Nova York** durant varios anys.\n",
        "\n",
        "En finalitzar aquesta pràctica, haureu de ser capaços de respondre la pregunta següent de forma detallada:\n",
        "\n",
        "- **Com va afectar la pandèmia de la Covid l'ús dels taxis a Nova York?**\n",
        "\n",
        "Pere respondre aquesta pregunta tant genèrica, ho descomposarem en preguntes més concretes:\n",
        "\n",
        "- Quina distribució d'encàrrecs segueixen els taxis i quina distància / durada tenen?\n",
        "- Quines són les zones on m'és / menys taxis s'agafen?\n",
        "- Quins horaris són els més usuals?\n",
        "- Quins dies de la setmana i del mes s'utilitzen més?\n",
        "- Etc."
      ]
    },
    {
      "cell_type": "markdown",
      "id": "87c0ff5e",
      "metadata": {
        "id": "87c0ff5e"
      },
      "source": [
        "### Instal·lació i importació de les llibreries necessàries\n",
        "\n",
        "A més a més de les llibreries comentades, farem servir aquests mòduls de Python:\n",
        "\n",
        "+ **PyArrow**: PyArrow és una biblioteca de Python que es fa servir per a l'intercanvi eficient de dades entre Python i altres llenguatges de programació, especialment C++ i Java. Aquesta biblioteca es desenvolupa com a part del projecte Apache Arrow, que és un projecte de codi obert dissenyat per a millorar el rendiment i la interoperabilitat de l'analítica de dades i les tecnologies relacionades. PyArrow permet la creació i la manipulació eficient de dades en forma de taules i columnes. PyArrow ofereix suport per a l'estructura de dades coneguda com a \"Table\", que és similar a una taula o un quadern de dades en altres llenguatges. Aquesta estructura de dades facilita l'organització i la manipulació de dades tabulars."
      ]
    },
    {
      "cell_type": "code",
      "execution_count": null,
      "id": "f8469f3f-c887-4a60-b5aa-f4d7cec4315f",
      "metadata": {
        "id": "f8469f3f-c887-4a60-b5aa-f4d7cec4315f"
      },
      "outputs": [],
      "source": [
        "from platform import python_version\n",
        "print(python_version())"
      ]
    },
    {
      "cell_type": "code",
      "execution_count": null,
      "id": "3e821ddc",
      "metadata": {
        "tags": [],
        "id": "3e821ddc"
      },
      "outputs": [],
      "source": [
        "! pip install pyarrow"
      ]
    },
    {
      "cell_type": "code",
      "execution_count": null,
      "id": "b3c240c3",
      "metadata": {
        "id": "b3c240c3"
      },
      "outputs": [],
      "source": [
        "import pandas as pd\n",
        "import numpy as np\n",
        "import urllib.request\n",
        "import zipfile\n",
        "import os\n",
        "from tqdm.notebook import tqdm\n",
        "import pyarrow.parquet as pq"
      ]
    },
    {
      "cell_type": "code",
      "execution_count": null,
      "id": "db7d0666",
      "metadata": {
        "id": "db7d0666"
      },
      "outputs": [],
      "source": [
        "import matplotlib as mpl\n",
        "import matplotlib.pyplot as plt\n",
        "%matplotlib inline"
      ]
    },
    {
      "cell_type": "markdown",
      "id": "7e48b62f-d76e-47c1-9153-2bbc1abd361a",
      "metadata": {
        "id": "7e48b62f-d76e-47c1-9153-2bbc1abd361a"
      },
      "source": [
        "## 1. Descàrrega de dades"
      ]
    },
    {
      "cell_type": "code",
      "execution_count": null,
      "id": "02458c74",
      "metadata": {
        "id": "02458c74"
      },
      "outputs": [],
      "source": [
        "# Variables globals: els anys que estudiarem\n",
        "YEARS = [2019, 2020, 2021]"
      ]
    },
    {
      "cell_type": "code",
      "execution_count": null,
      "id": "c6f194ca",
      "metadata": {
        "tags": [],
        "id": "c6f194ca"
      },
      "outputs": [],
      "source": [
        "# Descàrrega de les dades: Trip Record Data\n",
        "# https://www1.nyc.gov/site/tlc/about/tlc-trip-record-data.page\n",
        "\n",
        "for year in tqdm(YEARS):\n",
        "    if not os.path.exists(f'data/{year}'):\n",
        "        os.makedirs(f'data/{year}', exist_ok=True)\n",
        "        for month in tqdm(range(1, 13)):\n",
        "            urllib.request.urlretrieve(f'https://d37ci6vzurychx.cloudfront.net/trip-data/yellow_tripdata_{year}-{month:02d}.parquet', f'data/{year}/{month:02d}.parquet')"
      ]
    },
    {
      "cell_type": "markdown",
      "id": "20c3c6d0",
      "metadata": {
        "id": "20c3c6d0"
      },
      "source": [
        "## 2. Neteja de dades\n",
        "\n",
        "Per tal de tenir unes dades netes i útils, eliminarem totes aquells trajectes (files del conjunt de dades)  que continguin informació *corrupte*. Per exemple, cal verificar que no es dóna cap d'aquests casos:\n",
        "\n",
        "- Presència de *missing data* (camps/columnes de les dades sense valor).\n",
        "- L'hora de recollida és posterior a la finalització del trajecte.\n",
        "- Les dades s'importen per mes i any. Són coherents els valors que contenen les dades?\n",
        "- Hi ha viatges amb un nombre absurd de passatgers?\n",
        "- Hi ha viatges massa llargs o massa curts?\n",
        "- Hi ha pagaments negatius?\n",
        "- Etc.\n",
        "\n",
        "A més a més, hem de considerar aspectes concrets d'aquestes dades:\n",
        "\n",
        "+ Hi pot haver viatges impossibles segons la normativa:\n",
        "    + [Més viatgers que els permesos](https://www1.nyc.gov/site/tlc/passengers/passenger-frequently-asked-questions.page) o [velocitats il·legals](https://www.speed-limits.com/newyork).\n",
        "    + [Limit de persones permeses a un yellow taxicab](https://drive.google.com/file/d/1eiV7wdm7WrkRlM9bmekCRM6GY3Yq6GI2/view?usp=sharing)"
      ]
    },
    {
      "cell_type": "markdown",
      "id": "31df86a1",
      "metadata": {
        "id": "31df86a1"
      },
      "source": [
        "De totes les columnes que tenen les dades, només cal fer servir les següents per contestar les preguntes:\n",
        "\n",
        "- *tpep_pickup_datetime*: The date and time when the meter was engaged.\n",
        "- *tpep_dropoff_datetime*: The date and time when the meter was disengaged.\n",
        "- *Passenger_count*: The number of passengers in the vehicle.\n",
        "- *Trip_distance*: The elapsed trip distance in miles reported by the taximeter.\n",
        "- *PULocationID*: TLC Taxi Zone in which the taximeter was engaged\n",
        "- *DOLocationID*: TLC Taxi Zone in which the taximeter was disengaged\n",
        "- *Payment_type*: A numeric code signifying how the passenger paid for the trip.\n",
        "    - 1= Credit card\n",
        "    - 2= Cash\n",
        "    - 3= No charge\n",
        "    - 4= Dispute\n",
        "    - 5= Unknown\n",
        "    - 6= Voided trip\n",
        "- *Fare_amount*: The time-and-distance fare calculated by the meter.\n",
        "- *Total_amount*: The total amount charged to passengers."
      ]
    },
    {
      "cell_type": "code",
      "execution_count": null,
      "id": "98a17743",
      "metadata": {
        "id": "98a17743"
      },
      "outputs": [],
      "source": [
        "# Carreguem les dades a un dataframe de pandas\n",
        "# Per agilitzar els càlculs i reduir el temps de càlcul durant el desenvolupament,\n",
        "# eliminem les columnes que no són útils i treballem amb una mostra\n",
        "# uniforme de les dades (1 fila de cada 100).\n",
        "\n",
        "def load_table(year, month, sampling = 100):\n",
        "    \"\"\"\n",
        "    Funció que llegeix les dades descarregades i les converteix a un DataFrame\n",
        "    \"\"\"\n",
        "    data = pq.read_table(f'data/{year}/{str(month).zfill(2)}.parquet').to_pandas()\n",
        "    required_data = ['tpep_pickup_datetime',\n",
        "                 'tpep_dropoff_datetime',\n",
        "                 'passenger_count',\n",
        "                 'trip_distance',\n",
        "                 'PULocationID',\n",
        "                 'DOLocationID',\n",
        "                 'payment_type',\n",
        "                 'fare_amount',\n",
        "                 'total_amount']\n",
        "    return data[required_data][::sampling]\n",
        "\n",
        "# explorem una mica les dades\n",
        "test = load_table(2019, 1)\n",
        "test.shape"
      ]
    },
    {
      "cell_type": "code",
      "execution_count": null,
      "id": "141c1aec-cd63-4657-a37a-39cac5cfa945",
      "metadata": {
        "id": "141c1aec-cd63-4657-a37a-39cac5cfa945"
      },
      "outputs": [],
      "source": [
        "test.tail(10)"
      ]
    },
    {
      "cell_type": "markdown",
      "id": "99b367ec",
      "metadata": {
        "id": "99b367ec"
      },
      "source": [
        "###  Exercici A\n",
        "\n",
        "+ Un cop llegides les dades a una taula de Pandas, implementa una funció que faci el procés de neteja que consideris necessari. Per determinar què és necessari, **explora** els valors que apareixen a cada columna del dataframe de Pandas i decideix què cal fer.\n",
        "\n",
        "> *Nota: Les columnes `Datatime` són un subtipus de dades de Pandas anomenades `datetime`.  Busca com tractar de forma eficient aquest tipus de dades en Pandas.*"
      ]
    },
    {
      "cell_type": "code",
      "execution_count": null,
      "id": "1e521108",
      "metadata": {
        "tags": [],
        "id": "1e521108"
      },
      "outputs": [],
      "source": [
        "def clean_data(data, year, month):\n",
        "    \"\"\"\n",
        "    Funció que neteja (una mostra de) les dades per un mes donat.\n",
        "    \"\"\"\n",
        "\n",
        "    # AQUÍ EL TEU CODI\n",
        "\n",
        "    return data\n",
        "\n",
        "test = clean_data(test, 2019,1)\n",
        "test.shape"
      ]
    },
    {
      "cell_type": "code",
      "execution_count": null,
      "id": "92bf0adf-163a-43d1-8bce-f46b05a7eba1",
      "metadata": {
        "id": "92bf0adf-163a-43d1-8bce-f46b05a7eba1"
      },
      "outputs": [],
      "source": [
        "test.tail()"
      ]
    },
    {
      "cell_type": "markdown",
      "id": "181105ce",
      "metadata": {
        "id": "181105ce"
      },
      "source": [
        "###  Exercici B\n",
        "\n",
        "+ Escriu una funció que transformi la taula original a una nova taula, més adequada per tal de dur a terme l'exploració necessària. Podeu afegir columnes addicionals, precalcular valors, etc.\n",
        "\n",
        "> Per exemple, podem transformar les dades per treballar amb les unitats de kilòmetres i hores per a representar les durades, distàncies i velocitats del trajecte. El motiu és, per una banda, que estem familiaritzades amb el Sistema Internacional d'Unitats (d'aquí el canvi de milles a km). I per altra, optar pels km i no pels metres degut a l'ordre de magnitud de les dades.\n",
        "\n",
        "> Un cop tenim les dades normalitzades i enriquides hem de pensar en la neteja una altra vegada. Per exemple: Eliminar aquelles files que tinguin velocitat max excedeixi limit permès per llei https://www.speed-limits.com/newyork"
      ]
    },
    {
      "cell_type": "code",
      "execution_count": null,
      "id": "4876b59c",
      "metadata": {
        "tags": [],
        "id": "4876b59c"
      },
      "outputs": [],
      "source": [
        "def post_processing(data):\n",
        "    \"\"\"\n",
        "    Funció on implementar qualsevol tipus de postprocessament necessari.\n",
        "    \"\"\"\n",
        "    # AQUÍ EL TEU CODI\n",
        "\n",
        "    return data\n",
        "\n",
        "test = post_processing(test)\n",
        "test.shape"
      ]
    },
    {
      "cell_type": "code",
      "execution_count": null,
      "id": "a1cb68cf-e0b0-48df-97d9-50e889c80646",
      "metadata": {
        "id": "a1cb68cf-e0b0-48df-97d9-50e889c80646"
      },
      "outputs": [],
      "source": [
        "test.tail()"
      ]
    },
    {
      "cell_type": "markdown",
      "id": "2ab042d7",
      "metadata": {
        "id": "2ab042d7"
      },
      "source": [
        "Amb això podem crear un nou dataset (una única taula) que contingui tota la informació dels anys: 2019, 2020, 2021."
      ]
    },
    {
      "cell_type": "code",
      "execution_count": null,
      "id": "3e32168d",
      "metadata": {
        "tags": [],
        "id": "3e32168d"
      },
      "outputs": [],
      "source": [
        "df = pd.concat([clean_data(load_table(year, month), year, month)\n",
        "                for year in tqdm(YEARS)\n",
        "                for month in tqdm(range(1, 13), leave = False)],\n",
        "                ignore_index=True, sort=False)\n",
        "df = post_processing(df)\n",
        "df.shape"
      ]
    },
    {
      "cell_type": "code",
      "execution_count": null,
      "id": "3dc0a510",
      "metadata": {
        "id": "3dc0a510"
      },
      "outputs": [],
      "source": [
        "df.head()"
      ]
    },
    {
      "cell_type": "markdown",
      "id": "50fa46a1",
      "metadata": {
        "id": "50fa46a1"
      },
      "source": [
        "## 3. Visualització de dades anuals"
      ]
    },
    {
      "cell_type": "markdown",
      "id": "d33507a6",
      "metadata": {
        "id": "d33507a6"
      },
      "source": [
        "Començarem l'anàlisi de les dades amb la següent pregunta: **S'ha incrementat o ha disminuït amb la covid la quantitat de viatges anuals fets amb taxis?**\n",
        "\n",
        "Per fer-ho, n'hi ha prou amb crear una figura de barres on es visualitzin la quantitat de viatges per any.\n",
        "\n",
        "### Exercici C\n",
        "\n",
        "+ Escriu una funció basada en `matplotlib` que generi aquesta gràfica."
      ]
    },
    {
      "cell_type": "code",
      "execution_count": null,
      "id": "2d1b8b94",
      "metadata": {
        "id": "2d1b8b94"
      },
      "outputs": [],
      "source": [
        "def bar_plot(df, column, xlabel, ylabel, title):\n",
        "    \"\"\"\n",
        "    Funció que crea una figura de barres a partir del dataframe i\n",
        "    la columna que conté la informació\n",
        "    \"\"\"\n",
        "    # AQUÍ EL TEU CODI\n",
        "\n",
        "\n",
        "bar_plot(df,\n",
        "         'year',\n",
        "         'Any',\n",
        "         'Quantitat de viatges',\n",
        "         'Quantitat de viatges per any')"
      ]
    },
    {
      "cell_type": "markdown",
      "id": "b99c9da0-af61-4f67-8d84-b00b1cdb2a36",
      "metadata": {
        "id": "b99c9da0-af61-4f67-8d84-b00b1cdb2a36"
      },
      "source": [
        "+ Visualitza ara en tres gràfiques, el nombre de viatges per mesos de cada any, fent servir la funció anterior."
      ]
    },
    {
      "cell_type": "code",
      "execution_count": null,
      "id": "e7be6355",
      "metadata": {
        "id": "e7be6355"
      },
      "outputs": [],
      "source": [
        "# AQUÍ EL TEU CODI\n"
      ]
    },
    {
      "cell_type": "markdown",
      "id": "a6832559",
      "metadata": {
        "id": "a6832559"
      },
      "source": [
        "+ Pregunta:\n",
        "    + És el comportament que esperàveu? Explica la teva interpretació de les dades tenint en compte el que va passar al món durant aquests anys."
      ]
    },
    {
      "cell_type": "markdown",
      "id": "4fd24054",
      "metadata": {
        "id": "4fd24054"
      },
      "source": [
        "> Resposta\n"
      ]
    },
    {
      "cell_type": "markdown",
      "id": "9794e190",
      "metadata": {
        "id": "9794e190"
      },
      "source": [
        "+ Visualitza **quants passatgers hi ha per taxi i per any**. Crea una figura **amb tres subfigures** (una per any) on es pugui veure el recompte de passatgers per any. Després repetiu el mateix gràfic visualitzant el % enlloc dels nombres ababsoluts (utilitzeu el paràmetre *norm = True*)."
      ]
    },
    {
      "cell_type": "code",
      "execution_count": null,
      "id": "1a3093d3",
      "metadata": {
        "id": "1a3093d3"
      },
      "outputs": [],
      "source": [
        "def passengers_taxi_year(df, ylim, xlabel, ylabel, title, norm = False):\n",
        "    \"\"\"\n",
        "    Funció que visualitza quants passatgers hi ha per taxi i per any\n",
        "    \"\"\"\n",
        "\n",
        "    # AQUÍ EL TEU CODI\n",
        "\n",
        "passengers_taxi_year(df,\n",
        "                     (0, 60000),\n",
        "                     'Nombre de passatgers',\n",
        "                     'Recompte de passatgers',\n",
        "                     'Recompte de passatgers per any')"
      ]
    },
    {
      "cell_type": "code",
      "execution_count": null,
      "id": "efca9289",
      "metadata": {
        "tags": [],
        "id": "efca9289"
      },
      "outputs": [],
      "source": [
        "# AQUÍ EL TEU CODI\n"
      ]
    },
    {
      "cell_type": "markdown",
      "id": "a8871d2c",
      "metadata": {
        "id": "a8871d2c"
      },
      "source": [
        "+ Com descriurieu de forma **qualitativa** l'efecte de la covid sobre els taxis en base a l'anàlisi fet fins ara?\n",
        "+ Podeu calcular de forma **quantitativa** la magnitud dels canvis que heu detectat? Escriviu una funció que calculi una sèrie d'indicadors quantitatius (per exemple, quin canvi percentual hi ha en el nombre de viatges d'una sola persona, la mitja de passatgers per viatge, etc.)."
      ]
    },
    {
      "cell_type": "markdown",
      "id": "22ffb557",
      "metadata": {
        "id": "22ffb557"
      },
      "source": [
        "> Respostes"
      ]
    },
    {
      "cell_type": "code",
      "execution_count": null,
      "id": "0d34f17a",
      "metadata": {
        "id": "0d34f17a"
      },
      "outputs": [],
      "source": [
        "# AQUÍ EL TEU CODI\n"
      ]
    },
    {
      "cell_type": "markdown",
      "id": "f7e15df4",
      "metadata": {
        "id": "f7e15df4"
      },
      "source": [
        "> Resposta:"
      ]
    },
    {
      "cell_type": "markdown",
      "id": "15192e92",
      "metadata": {
        "id": "15192e92"
      },
      "source": [
        "## 4. Quantitat de viatges\n",
        "\n",
        "Fins ara hem vist la quantitat de viatges que hi ha hagut a nivell de mesos i anys.\n",
        "\n",
        "Ara podem estudiar l'efecte de la covid en el nombre de trajectes si **agreguem** les dades per hores, dies de la setmana, setmanes de l'any, etc.\n",
        "\n",
        "### Exercici D\n",
        "\n",
        "+ Escriu una única funció genèrica que visualitzi el nombre de trajectes per les agregacions de dades comentades i per cada any. Fes servir gràfics de línies discontínues (una línia per cada any) per veure'n l'evolució i marca amb una rodona o creu allà on està el valor."
      ]
    },
    {
      "cell_type": "code",
      "execution_count": null,
      "id": "a7600c12",
      "metadata": {
        "id": "a7600c12"
      },
      "outputs": [],
      "source": [
        "def visualize_trips(df, columns, title, xlabel, ylabel):\n",
        "    \"\"\"\n",
        "    Funció que visualitza els viatges per diferents agregacions de dades\n",
        "    \"\"\"\n",
        "\n",
        "    # AQUÍ EL TEU CODI\n",
        "\n",
        "\n",
        "visualize_trips(df,\n",
        "                ['pickup_hour', 'dropoff_hour'],\n",
        "                title = 'Quantitat de viatges per hora',\n",
        "                xlabel = 'Hora del dia', ylabel = 'Quantitat')"
      ]
    },
    {
      "cell_type": "code",
      "execution_count": null,
      "id": "07029682",
      "metadata": {
        "tags": [],
        "id": "07029682"
      },
      "outputs": [],
      "source": [
        "visualize_trips(df,\n",
        "                ['pickup_day', 'dropoff_day'],\n",
        "                title = 'Quantitat de viatges per dia de la setmana',\n",
        "                xlabel = 'Dia de la setmana',\n",
        "                ylabel = 'Quantitat')"
      ]
    },
    {
      "cell_type": "code",
      "execution_count": null,
      "id": "e5dc11a6",
      "metadata": {
        "tags": [],
        "id": "e5dc11a6"
      },
      "outputs": [],
      "source": [
        "visualize_trips(df,\n",
        "                ['pickup_week', 'dropoff_week'],\n",
        "                title = 'Quantitat de viatges per setmana de l\\'any',\n",
        "                xlabel = 'Setmana de l\\'any',\n",
        "                ylabel = 'Quanitat')"
      ]
    },
    {
      "cell_type": "markdown",
      "id": "5a5c0cf9",
      "metadata": {
        "id": "5a5c0cf9"
      },
      "source": [
        "+ Com descriurieu l'efecte de la covid en cada cas (si és que en té)? Quin creieu que és el motiu?"
      ]
    },
    {
      "cell_type": "markdown",
      "id": "a9897a2a",
      "metadata": {
        "id": "a9897a2a"
      },
      "source": [
        "> Resposta:\n"
      ]
    },
    {
      "cell_type": "markdown",
      "id": "3878afdf",
      "metadata": {
        "id": "3878afdf"
      },
      "source": [
        "## 5. Relació distancia, temps i velocitat\n",
        "\n",
        "A les dades tenim la **distància** que ha recorregut el taxi en cada viatge i de la informació temporal podem extreure també la **durada** d'aquest.\n",
        "\n",
        "Ara explorarem com la covid va afectar les distàncies i les durades dels viatges, i també la velocitat dels taxis. També ens preguntarem si la densitat de trànsit va variar."
      ]
    },
    {
      "cell_type": "markdown",
      "id": "c3911075",
      "metadata": {
        "id": "c3911075"
      },
      "source": [
        "### Exercici E\n",
        "\n",
        "+ Per començar, escriu una funció que visualitzi els **histogrames** de distància i durada per any."
      ]
    },
    {
      "cell_type": "code",
      "execution_count": null,
      "id": "de3b0854",
      "metadata": {
        "id": "de3b0854"
      },
      "outputs": [],
      "source": [
        "def visualize_histograms(df, column, title, xlabel, ylabel, xlim):\n",
        "    \"\"\"\n",
        "    Funció que crea un histograma a partir de la informació que conté la columna del dataframe\n",
        "    \"\"\"\n",
        "\n",
        "    # AQUÍ EL TEU CODI\n",
        "\n",
        "\n",
        "visualize_histograms(df, 'trip_distance', title = 'Distància dels viatge per any',\n",
        "                     xlabel = 'Distància (km)', ylabel = 'Quantitat', xlim = (-5, 80))\n",
        "\n",
        "visualize_histograms(df, 'trip_duration', title = 'Durada dels viatges per any',\n",
        "                     xlabel = 'Durada (h)', ylabel = 'Quantitat', xlim = (-1, 25) )\n",
        "\n",
        "visualize_histograms(df, 'speed', title = 'Velocitat dels viatge per any',\n",
        "                     xlabel = 'Velocitat (Km/h)', ylabel = 'Quanitat', xlim = (-1, 25) )"
      ]
    },
    {
      "cell_type": "markdown",
      "id": "8111f857",
      "metadata": {
        "id": "8111f857"
      },
      "source": [
        "* Com creieu que la covid va afectar les distàncies i durades dels viatges?\n",
        "\n",
        "* I a la velocitat dels taxis?"
      ]
    },
    {
      "cell_type": "markdown",
      "id": "fd7a161a",
      "metadata": {
        "id": "fd7a161a"
      },
      "source": [
        "> Resposta:\n"
      ]
    },
    {
      "cell_type": "markdown",
      "source": [
        "+ Pregunta:\n",
        "\n",
        "https://data.cityofnewyork.us/Transportation/NYC-Taxi-Zones/d3c5-ddgc\n",
        "\n",
        "+ Utilitzant el DataFrame, escriu una funció que identifiqui les cinc ubicacions de recollida (PULocationID) més freqüents.\n",
        "+ Per a aquestes cinc ubicacions de recollida, calcula el nombre mitjà de passatgers (passenger_count) per trajecte.\n",
        "+ Filtra els trajectes on la ubicació de recollida i de deixada són la mateixa (PULocationID == DOLocationID). Calcula el percentatge d'aquests trajectes respecte al total de trajectes."
      ],
      "metadata": {
        "id": "0NoYA-2pRuFk"
      },
      "id": "0NoYA-2pRuFk"
    },
    {
      "cell_type": "code",
      "source": [
        "def analyze_pickup_dropoff_locations(df):\n",
        "\n",
        "    # AQUÍ EL TEU CODI\n",
        "\n",
        "analyze_pickup_dropoff_locations(df)"
      ],
      "metadata": {
        "id": "gJKQFxgkRutU"
      },
      "id": "gJKQFxgkRutU",
      "execution_count": null,
      "outputs": []
    }
  ],
  "metadata": {
    "kernelspec": {
      "display_name": "Python 3 (ipykernel)",
      "language": "python",
      "name": "python3"
    },
    "language_info": {
      "codemirror_mode": {
        "name": "ipython",
        "version": 3
      },
      "file_extension": ".py",
      "mimetype": "text/x-python",
      "name": "python",
      "nbconvert_exporter": "python",
      "pygments_lexer": "ipython3",
      "version": "3.8.15"
    },
    "colab": {
      "provenance": []
    }
  },
  "nbformat": 4,
  "nbformat_minor": 5
}